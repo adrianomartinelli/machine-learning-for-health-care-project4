{
 "cells": [
  {
   "cell_type": "code",
   "execution_count": 19,
   "metadata": {},
   "outputs": [],
   "source": [
    "from sandbox import *\n",
    "\n",
    "import matplotlib.pyplot as plt\n",
    "from sklearn.metrics import accuracy_score, precision_score, recall_score, f1_score, roc_auc_score,roc_curve,precision_recall_curve, auc, plot_confusion_matrix, plot_roc_curve, plot_precision_recall_curve"
   ]
  },
  {
   "cell_type": "code",
   "execution_count": 2,
   "metadata": {},
   "outputs": [],
   "source": [
    "random_state = 42"
   ]
  },
  {
   "cell_type": "markdown",
   "metadata": {},
   "source": [
    "# Data loading"
   ]
  },
  {
   "cell_type": "markdown",
   "metadata": {},
   "source": [
    "We use only 100k of the approximately 550k samples (more than that seems to break the kernel of our handin jupyter notebook) provided in the human_dna_train-&validation_split in this analysis.\n",
    "\n",
    "In a first step we combine the train&validation_split data since we do a 5-fold crossvalidation of our models. Then we one-hot encode the sequence data resulting in a training dataset with input shape of (sample number, sequence length, amino acids)."
   ]
  },
  {
   "cell_type": "code",
   "execution_count": 3,
   "metadata": {},
   "outputs": [],
   "source": [
    "df_train = pd.concat([pd.read_csv('exercise_data/human_dna_train_split.csv', header=0, names =['seq', 'label']),\n",
    "                       pd.read_csv('exercise_data/human_dna_validation_split.csv', header=0, names =['seq', 'label'])])\n",
    "y_train = df_train.label\n",
    "x_train = df_train.seq"
   ]
  },
  {
   "cell_type": "code",
   "execution_count": 4,
   "metadata": {},
   "outputs": [],
   "source": [
    "# TRAINING DATASET\n",
    "\n",
    "y_train=y_train[:100000]\n",
    "x_train=x_train[:100000]\n",
    "x_prep, y_prep = prep_data_cnn(x_train, y_train)\n",
    "\n",
    "# print(x_prep.shape)\n",
    "# print(y_prep.shape)\n",
    "# print((np.asarray(x_prep)).shape)"
   ]
  },
  {
   "cell_type": "code",
   "execution_count": 5,
   "metadata": {},
   "outputs": [],
   "source": [
    "# TESTING DATASETS\n",
    "df_test = pd.read_csv('exercise_data/human_dna_test_split.csv', header=0, names =['seq', 'label'])\n",
    "df_test_hidden = pd.read_csv('exercise_data/human_dna_test_hidden_split.csv', header=0, names =['seq'])\n",
    "y_test = df_test.label\n",
    "x_test = df_test.seq\n",
    "x_testh = df_test_hidden.seq"
   ]
  },
  {
   "cell_type": "code",
   "execution_count": 6,
   "metadata": {},
   "outputs": [
    {
     "name": "stderr",
     "output_type": "stream",
     "text": [
      "/home/flurin/machine-learning-for-health-care-project4/sandbox.py:78: SettingWithCopyWarning: \n",
      "A value is trying to be set on a copy of a slice from a DataFrame\n",
      "\n",
      "See the caveats in the documentation: https://pandas.pydata.org/pandas-docs/stable/user_guide/indexing.html#returning-a-view-versus-a-copy\n",
      "  y[y==-1] = 0\n"
     ]
    }
   ],
   "source": [
    "x_prep_test, y_prep_test = prep_data_cnn(x_test, y_test)\n",
    "\n",
    "# print(x_prep_test.shape)\n",
    "# print(y_prep_test.shape)\n",
    "# print((np.asarray(x_prep_test)).shape)"
   ]
  },
  {
   "cell_type": "code",
   "execution_count": 7,
   "metadata": {},
   "outputs": [],
   "source": [
    "x_prep_testh = prep_data_cnn(x_testh, use_y=False)\n",
    "\n",
    "# print(x_prep_testh.shape)"
   ]
  },
  {
   "cell_type": "markdown",
   "metadata": {},
   "source": [
    "# Analysis / Methods"
   ]
  },
  {
   "cell_type": "markdown",
   "metadata": {},
   "source": [
    "Using the one-hot encoded data we here investigate three neural network architectures on their capability to predict splice sites (binary problem described in the project_4 description).\n",
    "\n",
    "A bit of detail on the 3 architectures we provide:\n",
    "\n",
    "## 'cnn'\n",
    "\n",
    "This is a model uses 2 convolutional blocks followed by a 3 feed forward layer blocks. The convolutional block uses a convolutional layer with 32 filters and kernel size 5, followed by a maximum pooling. The onehot-encoded input is passed through the convolutional blocks and is then flattened and further processed by the following feed forward layer block: The feed forward layer blocks are decreasing in number of nodes in the linear layers, starting at 256, 128 and then 85. Between the linear layers of the feed forward layer block we apply ReLU activation function and use dropout of 0.5.\n",
    "\n",
    "\n",
    "## 'cnn2'\n",
    "\n",
    "This model uses 2 convolutional blocks with decreasing number of filters. First layer block uses 32 filters the second block uses 16 filters, both use kernel size of 3. We then use maxpooling and apply flatten. Then we use a single dense layer with ReLU activation function with 128 nodes followed by an output layer using softmax activation with 2 nodes.\n",
    "\n",
    "\n",
    "## 'rnn'\n",
    "\n",
    "This is a simple recurrent neural network architecture that uses lstm cells (32 units) followed by a feedforward layer block with 3 dense layers, relu activation function and dropout as described in 'cnn'. The hidden state of the LSTM layer is used as input of the feed forward layer block. \n",
    "Finally we use 2 output nodes with softmax activation to predict.\n",
    "\n"
   ]
  },
  {
   "cell_type": "code",
   "execution_count": 8,
   "metadata": {},
   "outputs": [],
   "source": [
    "# Settings is a list of lists containing our evaluation settings.\n",
    "# We optimize modeltype, batch_size and learning_rate.\n",
    "def save(cv, run='elegans'):\n",
    "    try:\n",
    "        import cPickle as pickle\n",
    "    except ImportError:  # python 3.x\n",
    "        import pickle\n",
    "    with open(run+'_data.p', 'wb') as fp:\n",
    "        pickle.dump(cv, fp, protocol=pickle.HIGHEST_PROTOCOL)\n",
    "        \n",
    "def load(run='elegans'):\n",
    "    data = None\n",
    "    try:\n",
    "        import cPickle as pickle\n",
    "    except ImportError:  # python 3.x\n",
    "        import pickle\n",
    "    with open(run+'_data.p', 'rb') as fp:\n",
    "        data = pickle.load(fp)\n",
    "    return data\n",
    "\n",
    "def get_settings():\n",
    "    settings = []\n",
    "    for m in ['cnn', 'cnn2', 'rnn']:\n",
    "        for l in [0.01, 0.001]:\n",
    "            for b in [64]:\n",
    "                settings.append([m, l, b])\n",
    "    return settings"
   ]
  },
  {
   "cell_type": "code",
   "execution_count": 9,
   "metadata": {},
   "outputs": [],
   "source": [
    "# We generate a learning setting list (notice this one is considerably shorter than our \n",
    "# evalutation on the elegans set. But with leonhard down \n",
    "# we are only capable of optimizing on our local machine.)\n",
    "\n",
    "settings = get_settings()\n",
    "# print(settings)"
   ]
  },
  {
   "cell_type": "code",
   "execution_count": 10,
   "metadata": {},
   "outputs": [
    {
     "name": "stdout",
     "output_type": "stream",
     "text": [
      "(100000,)\n",
      "weights for classes: {0: 0.5015699138302888, 1: 159.7444089456869}\n",
      "Epoch 1/3\n",
      "1250/1250 [==============================] - 15s 12ms/step - loss: 1.2423 - accuracy: 0.3802 - val_loss: 0.7761 - val_accuracy: 0.0027\n",
      "Epoch 2/3\n",
      "1250/1250 [==============================] - 14s 11ms/step - loss: 0.7460 - accuracy: 0.3465 - val_loss: 0.7504 - val_accuracy: 0.0027\n",
      "Epoch 3/3\n",
      "1250/1250 [==============================] - 14s 11ms/step - loss: 0.7214 - accuracy: 0.3902 - val_loss: 0.6980 - val_accuracy: 0.9973\n",
      "Epoch 1/3\n",
      "1250/1250 [==============================] - 15s 12ms/step - loss: 2.8684 - accuracy: 0.3146 - val_loss: 0.8378 - val_accuracy: 0.0033\n",
      "Epoch 2/3\n",
      "1250/1250 [==============================] - 15s 12ms/step - loss: 0.7632 - accuracy: 0.4943 - val_loss: 0.6454 - val_accuracy: 0.9966\n",
      "Epoch 3/3\n",
      "1250/1250 [==============================] - 14s 12ms/step - loss: 0.7244 - accuracy: 0.4475 - val_loss: 0.6406 - val_accuracy: 0.9966\n",
      "Epoch 1/3\n",
      "1250/1250 [==============================] - 15s 12ms/step - loss: 1.4779 - accuracy: 0.3783 - val_loss: 0.8380 - val_accuracy: 0.0031\n",
      "Epoch 2/3\n",
      "1250/1250 [==============================] - 15s 12ms/step - loss: 0.7538 - accuracy: 0.3299 - val_loss: 0.6878 - val_accuracy: 0.9969\n",
      "Epoch 3/3\n",
      "1250/1250 [==============================] - 15s 12ms/step - loss: 0.7233 - accuracy: 0.5625 - val_loss: 0.7758 - val_accuracy: 0.0031\n",
      "Epoch 1/3\n",
      "1250/1250 [==============================] - 15s 12ms/step - loss: 1.2313 - accuracy: 0.3822 - val_loss: 0.6789 - val_accuracy: 0.9966\n",
      "Epoch 2/3\n",
      "1250/1250 [==============================] - 15s 12ms/step - loss: 0.7283 - accuracy: 0.5264 - val_loss: 0.8119 - val_accuracy: 0.0033\n",
      "Epoch 3/3\n",
      "1250/1250 [==============================] - 15s 12ms/step - loss: 0.7050 - accuracy: 0.4895 - val_loss: 0.6496 - val_accuracy: 0.9966\n",
      "Epoch 1/3\n",
      "1250/1250 [==============================] - 15s 12ms/step - loss: 1.6336 - accuracy: 0.3835 - val_loss: 0.7197 - val_accuracy: 0.9969\n",
      "Epoch 2/3\n",
      "1250/1250 [==============================] - 15s 12ms/step - loss: 0.7397 - accuracy: 0.4421 - val_loss: 0.7194 - val_accuracy: 0.9969\n",
      "Epoch 3/3\n",
      "1250/1250 [==============================] - 15s 12ms/step - loss: 0.7181 - accuracy: 0.5596 - val_loss: 0.7476 - val_accuracy: 0.0032\n",
      "Epoch 1/3\n",
      "1250/1250 [==============================] - 15s 12ms/step - loss: 1.0705 - accuracy: 0.4358 - val_loss: 0.8521 - val_accuracy: 0.0027\n",
      "Epoch 2/3\n",
      "1250/1250 [==============================] - 15s 12ms/step - loss: 0.8039 - accuracy: 0.0151 - val_loss: 0.7834 - val_accuracy: 0.0027\n",
      "Epoch 3/3\n",
      "1250/1250 [==============================] - 15s 12ms/step - loss: 0.8971 - accuracy: 0.1301 - val_loss: 0.7843 - val_accuracy: 0.0027\n",
      "Epoch 1/3\n",
      "1250/1250 [==============================] - 16s 13ms/step - loss: 1.3167 - accuracy: 0.3318 - val_loss: 0.9004 - val_accuracy: 0.0033\n",
      "Epoch 2/3\n",
      "1250/1250 [==============================] - 16s 13ms/step - loss: 0.8228 - accuracy: 0.2307 - val_loss: 0.7882 - val_accuracy: 0.9966\n",
      "Epoch 3/3\n",
      "1250/1250 [==============================] - 16s 13ms/step - loss: 0.7746 - accuracy: 0.3962 - val_loss: 0.7236 - val_accuracy: 0.9966\n",
      "Epoch 1/3\n",
      "1250/1250 [==============================] - 16s 13ms/step - loss: 1.2793 - accuracy: 0.4850 - val_loss: 0.2206 - val_accuracy: 0.9969\n",
      "Epoch 2/3\n",
      "1250/1250 [==============================] - 16s 13ms/step - loss: 0.8705 - accuracy: 0.3013 - val_loss: 0.8306 - val_accuracy: 0.0031\n",
      "Epoch 3/3\n",
      "1250/1250 [==============================] - 16s 13ms/step - loss: 0.8028 - accuracy: 0.2864 - val_loss: 0.7785 - val_accuracy: 0.0031\n",
      "Epoch 1/3\n",
      "1250/1250 [==============================] - 16s 13ms/step - loss: 1.0973 - accuracy: 0.5433 - val_loss: 0.8479 - val_accuracy: 0.0033\n",
      "Epoch 2/3\n",
      "1250/1250 [==============================] - 16s 13ms/step - loss: 0.8001 - accuracy: 0.5310 - val_loss: 0.7998 - val_accuracy: 0.0033\n",
      "Epoch 3/3\n",
      "1250/1250 [==============================] - 16s 13ms/step - loss: 0.8498 - accuracy: 0.2888 - val_loss: 0.7812 - val_accuracy: 0.0033\n",
      "Epoch 1/3\n",
      "1250/1250 [==============================] - 16s 13ms/step - loss: 0.9789 - accuracy: 0.4785 - val_loss: 0.7741 - val_accuracy: 0.9969\n",
      "Epoch 2/3\n",
      "1250/1250 [==============================] - 16s 13ms/step - loss: 0.7915 - accuracy: 0.3036 - val_loss: 0.7792 - val_accuracy: 0.0032\n",
      "Epoch 3/3\n",
      "1250/1250 [==============================] - 16s 13ms/step - loss: 0.7457 - accuracy: 0.4059 - val_loss: 0.7424 - val_accuracy: 0.0032\n",
      "Epoch 1/3\n",
      "1250/1250 [==============================] - 11s 9ms/step - loss: 1.1620 - accuracy: 0.2939 - val_loss: 0.5961 - val_accuracy: 0.9973\n",
      "Epoch 2/3\n",
      "1250/1250 [==============================] - 11s 8ms/step - loss: 0.7102 - accuracy: 0.4701 - val_loss: 0.7466 - val_accuracy: 0.0027\n",
      "Epoch 3/3\n",
      "1250/1250 [==============================] - 11s 9ms/step - loss: 0.7136 - accuracy: 0.2868 - val_loss: 0.6389 - val_accuracy: 0.9973\n",
      "Epoch 1/3\n",
      "1250/1250 [==============================] - 11s 9ms/step - loss: 1.4549 - accuracy: 0.4696 - val_loss: 0.6837 - val_accuracy: 0.9966\n",
      "Epoch 2/3\n",
      "1250/1250 [==============================] - 11s 9ms/step - loss: 0.6891 - accuracy: 0.4635 - val_loss: 0.5443 - val_accuracy: 0.9966\n",
      "Epoch 3/3\n",
      "1250/1250 [==============================] - 11s 9ms/step - loss: 0.6905 - accuracy: 0.4483 - val_loss: 0.5453 - val_accuracy: 0.9966\n",
      "Epoch 1/3\n",
      "1250/1250 [==============================] - 11s 8ms/step - loss: 1.6657 - accuracy: 0.5247 - val_loss: 0.6571 - val_accuracy: 0.9969\n",
      "Epoch 2/3\n",
      "1250/1250 [==============================] - 11s 9ms/step - loss: 0.6977 - accuracy: 0.5244 - val_loss: 0.7459 - val_accuracy: 0.0031\n",
      "Epoch 3/3\n",
      "1250/1250 [==============================] - 10s 8ms/step - loss: 0.6970 - accuracy: 0.4883 - val_loss: 0.5961 - val_accuracy: 0.9969\n",
      "Epoch 1/3\n",
      "1250/1250 [==============================] - 11s 8ms/step - loss: 0.9215 - accuracy: 0.5545 - val_loss: 0.6508 - val_accuracy: 0.9966\n",
      "Epoch 2/3\n",
      "1250/1250 [==============================] - 10s 8ms/step - loss: 0.6917 - accuracy: 0.6270 - val_loss: 0.7597 - val_accuracy: 0.0033\n",
      "Epoch 3/3\n",
      "1250/1250 [==============================] - 10s 8ms/step - loss: 0.6916 - accuracy: 0.5023 - val_loss: 0.6467 - val_accuracy: 0.9966\n",
      "Epoch 1/3\n",
      "1250/1250 [==============================] - 10s 8ms/step - loss: 0.8918 - accuracy: 0.4062 - val_loss: 0.6710 - val_accuracy: 0.9969\n",
      "Epoch 2/3\n",
      "1250/1250 [==============================] - 10s 8ms/step - loss: 0.6958 - accuracy: 0.4514 - val_loss: 0.7295 - val_accuracy: 0.0032\n",
      "Epoch 3/3\n",
      "1250/1250 [==============================] - 10s 8ms/step - loss: 0.6957 - accuracy: 0.4913 - val_loss: 0.6980 - val_accuracy: 0.0032\n",
      "Epoch 1/3\n",
      "1250/1250 [==============================] - 10s 8ms/step - loss: 0.5887 - accuracy: 0.8359 - val_loss: 0.3326 - val_accuracy: 0.8496\n",
      "Epoch 2/3\n",
      "1250/1250 [==============================] - 11s 9ms/step - loss: 0.3766 - accuracy: 0.8190 - val_loss: 0.2621 - val_accuracy: 0.8929\n",
      "Epoch 3/3\n",
      "1250/1250 [==============================] - 11s 9ms/step - loss: 0.3077 - accuracy: 0.8661 - val_loss: 0.2051 - val_accuracy: 0.9103\n",
      "Epoch 1/3\n",
      "1250/1250 [==============================] - 10s 8ms/step - loss: 0.6799 - accuracy: 0.9514 - val_loss: 0.2198 - val_accuracy: 0.9103\n",
      "Epoch 2/3\n",
      "1250/1250 [==============================] - 9s 7ms/step - loss: 0.4527 - accuracy: 0.8392 - val_loss: 0.2693 - val_accuracy: 0.8367\n",
      "Epoch 3/3\n",
      "1250/1250 [==============================] - 9s 8ms/step - loss: 0.3805 - accuracy: 0.8448 - val_loss: 0.3074 - val_accuracy: 0.8359\n",
      "Epoch 1/3\n",
      "1250/1250 [==============================] - 9s 7ms/step - loss: 0.6563 - accuracy: 0.7164 - val_loss: 0.3296 - val_accuracy: 0.8530\n",
      "Epoch 2/3\n",
      "1250/1250 [==============================] - 10s 8ms/step - loss: 0.3398 - accuracy: 0.8485 - val_loss: 0.3383 - val_accuracy: 0.8490\n",
      "Epoch 3/3\n",
      "1250/1250 [==============================] - 9s 7ms/step - loss: 0.2581 - accuracy: 0.8875 - val_loss: 0.4088 - val_accuracy: 0.8234\n",
      "Epoch 1/3\n",
      "1250/1250 [==============================] - 9s 8ms/step - loss: 0.7455 - accuracy: 0.7556 - val_loss: 0.4407 - val_accuracy: 0.8709\n",
      "Epoch 2/3\n",
      "1250/1250 [==============================] - 9s 7ms/step - loss: 0.4286 - accuracy: 0.8025 - val_loss: 0.5098 - val_accuracy: 0.7799\n",
      "Epoch 3/3\n"
     ]
    },
    {
     "name": "stdout",
     "output_type": "stream",
     "text": [
      "1250/1250 [==============================] - 9s 7ms/step - loss: 0.3863 - accuracy: 0.8299 - val_loss: 0.3775 - val_accuracy: 0.8649\n",
      "Epoch 1/3\n",
      "1250/1250 [==============================] - 9s 8ms/step - loss: 0.5835 - accuracy: 0.6438 - val_loss: 0.1368 - val_accuracy: 0.9503\n",
      "Epoch 2/3\n",
      "1250/1250 [==============================] - 9s 8ms/step - loss: 0.4021 - accuracy: 0.8390 - val_loss: 0.7179 - val_accuracy: 0.7075\n",
      "Epoch 3/3\n",
      "1250/1250 [==============================] - 9s 7ms/step - loss: 0.2816 - accuracy: 0.8728 - val_loss: 0.4418 - val_accuracy: 0.8062\n",
      "Epoch 1/3\n",
      "1250/1250 [==============================] - 13s 11ms/step - loss: 2.7045 - accuracy: 0.2947 - val_loss: 0.7691 - val_accuracy: 0.9973\n",
      "Epoch 2/3\n",
      "1250/1250 [==============================] - 13s 11ms/step - loss: 0.7663 - accuracy: 0.4095 - val_loss: 0.6738 - val_accuracy: 0.9973\n",
      "Epoch 3/3\n",
      "1250/1250 [==============================] - 13s 11ms/step - loss: 0.7336 - accuracy: 0.5842 - val_loss: 0.7810 - val_accuracy: 0.0027\n",
      "Epoch 1/3\n",
      "1250/1250 [==============================] - 14s 11ms/step - loss: 7.6396 - accuracy: 0.4638 - val_loss: 0.9192 - val_accuracy: 0.0033\n",
      "Epoch 2/3\n",
      "1250/1250 [==============================] - 14s 11ms/step - loss: 0.8173 - accuracy: 0.5691 - val_loss: 0.8276 - val_accuracy: 0.0033\n",
      "Epoch 3/3\n",
      "1250/1250 [==============================] - 14s 11ms/step - loss: 0.7640 - accuracy: 0.5099 - val_loss: 0.7082 - val_accuracy: 0.9966\n",
      "Epoch 1/3\n",
      "1250/1250 [==============================] - 13s 11ms/step - loss: 11.4921 - accuracy: 0.4182 - val_loss: 1.0898 - val_accuracy: 0.0031\n",
      "Epoch 2/3\n",
      "1250/1250 [==============================] - 14s 11ms/step - loss: 0.8492 - accuracy: 0.4709 - val_loss: 0.8439 - val_accuracy: 0.0031\n",
      "Epoch 3/3\n",
      "1250/1250 [==============================] - 14s 11ms/step - loss: 0.7720 - accuracy: 0.3600 - val_loss: 0.6790 - val_accuracy: 0.9969\n",
      "Epoch 1/3\n",
      "1250/1250 [==============================] - 14s 11ms/step - loss: 1.1808 - accuracy: 0.4031 - val_loss: 0.7277 - val_accuracy: 0.9966\n",
      "Epoch 2/3\n",
      "1250/1250 [==============================] - 14s 11ms/step - loss: 0.7154 - accuracy: 0.5167 - val_loss: 0.6909 - val_accuracy: 0.9966\n",
      "Epoch 3/3\n",
      "1250/1250 [==============================] - 14s 11ms/step - loss: 0.7025 - accuracy: 0.5248 - val_loss: 0.6450 - val_accuracy: 0.9966\n",
      "Epoch 1/3\n",
      "1250/1250 [==============================] - 14s 11ms/step - loss: 11.2634 - accuracy: 0.3642 - val_loss: 1.0271 - val_accuracy: 0.9969\n",
      "Epoch 2/3\n",
      "1250/1250 [==============================] - 14s 11ms/step - loss: 0.9275 - accuracy: 0.5587 - val_loss: 0.8074 - val_accuracy: 0.9969\n",
      "Epoch 3/3\n",
      "1250/1250 [==============================] - 14s 11ms/step - loss: 0.8081 - accuracy: 0.3848 - val_loss: 0.6449 - val_accuracy: 0.9969\n",
      "Epoch 1/3\n",
      "1250/1250 [==============================] - 14s 11ms/step - loss: 1.1924 - accuracy: 0.4927 - val_loss: 0.9054 - val_accuracy: 0.0027\n",
      "Epoch 2/3\n",
      "1250/1250 [==============================] - 14s 11ms/step - loss: 0.9603 - accuracy: 0.0909 - val_loss: 0.8587 - val_accuracy: 0.0027\n",
      "Epoch 3/3\n",
      "1250/1250 [==============================] - 14s 11ms/step - loss: 0.8020 - accuracy: 0.0822 - val_loss: 0.8019 - val_accuracy: 0.0027\n",
      "Epoch 1/3\n",
      "1250/1250 [==============================] - 14s 11ms/step - loss: 1.0783 - accuracy: 0.4861 - val_loss: 0.8610 - val_accuracy: 0.0033\n",
      "Epoch 2/3\n",
      "1250/1250 [==============================] - 14s 11ms/step - loss: 0.7907 - accuracy: 0.0993 - val_loss: 0.7481 - val_accuracy: 0.9966\n",
      "Epoch 3/3\n",
      "1250/1250 [==============================] - 14s 11ms/step - loss: 0.7820 - accuracy: 0.4061 - val_loss: 0.7772 - val_accuracy: 0.0033\n",
      "Epoch 1/3\n",
      "1250/1250 [==============================] - 14s 11ms/step - loss: 1.0342 - accuracy: 0.3034 - val_loss: 0.8409 - val_accuracy: 0.0031\n",
      "Epoch 2/3\n",
      "1250/1250 [==============================] - 14s 11ms/step - loss: 0.9547 - accuracy: 0.2623 - val_loss: 0.8067 - val_accuracy: 0.0031\n",
      "Epoch 3/3\n",
      "1250/1250 [==============================] - 14s 11ms/step - loss: 0.7709 - accuracy: 0.3767 - val_loss: 0.7826 - val_accuracy: 0.0031\n",
      "Epoch 1/3\n",
      "1250/1250 [==============================] - 14s 11ms/step - loss: 1.1801 - accuracy: 0.4803 - val_loss: 0.9197 - val_accuracy: 0.0033\n",
      "Epoch 2/3\n",
      "1250/1250 [==============================] - 14s 11ms/step - loss: 0.8214 - accuracy: 0.4455 - val_loss: 0.8162 - val_accuracy: 0.0033\n",
      "Epoch 3/3\n",
      "1250/1250 [==============================] - 14s 11ms/step - loss: 0.7711 - accuracy: 0.4716 - val_loss: 0.7650 - val_accuracy: 0.0033\n",
      "Epoch 1/3\n",
      "1250/1250 [==============================] - 14s 11ms/step - loss: 1.3282 - accuracy: 0.4354 - val_loss: 0.8538 - val_accuracy: 0.0032\n",
      "Epoch 2/3\n",
      "1250/1250 [==============================] - 14s 11ms/step - loss: 0.9402 - accuracy: 0.1818 - val_loss: 0.8214 - val_accuracy: 0.0032\n",
      "Epoch 3/3\n",
      "1250/1250 [==============================] - 14s 11ms/step - loss: 0.7908 - accuracy: 0.4344 - val_loss: 0.7916 - val_accuracy: 0.0032\n"
     ]
    }
   ],
   "source": [
    "# This is a full run... often the kernel dies using the full dataset. run next box for individual runs starting at idx = 0\n",
    "cv = cross_validation(x_prep, y_prep, settings, \n",
    "                      x_test=x_prep_test, y_test=y_prep_test, \n",
    "                      x_testh=x_prep_testh, \n",
    "                      k=5, epochs=3, test_hidden=True)\n",
    "# Here we only do 3 epochs (more data, no clusters available) "
   ]
  },
  {
   "cell_type": "code",
   "execution_count": 12,
   "metadata": {},
   "outputs": [],
   "source": [
    "save(cv, run='human')"
   ]
  },
  {
   "cell_type": "code",
   "execution_count": 13,
   "metadata": {},
   "outputs": [
    {
     "name": "stdout",
     "output_type": "stream",
     "text": [
      "new best: 0.702300751209259\n",
      "new best: 0.6250078916549683\n",
      "new best: 0.34813688695430756\n",
      "Best setting was ['cnn2', 0.001, 64] ([model type, learning rate, batch size])\n"
     ]
    }
   ],
   "source": [
    "best = 1000\n",
    "for i in range(len(cv)):\n",
    "    # print(cv[i])\n",
    "    if i%5==0:\n",
    "        new = cv[i][2]\n",
    "    else:\n",
    "        new += cv[i][2]\n",
    "    # print(cv[i][2], new)\n",
    "    if i%5==4:\n",
    "        if best > cv[i][2]:\n",
    "            print(\"new best:\", new/5)\n",
    "            best = new/5\n",
    "            best_s = cv[i][1]  # validation loss\n",
    "            best_pred_test = cv[i][3]\n",
    "            best_pred_testh = cv[i][5]\n",
    "print(\"Best setting was {} ([model type, learning rate, batch size])\".format(best_s))"
   ]
  },
  {
   "cell_type": "markdown",
   "metadata": {},
   "source": [
    "Using the best model (average of cross validation)!"
   ]
  },
  {
   "cell_type": "markdown",
   "metadata": {},
   "source": [
    "# Discussion"
   ]
  },
  {
   "cell_type": "markdown",
   "metadata": {},
   "source": [
    "We found that our model 'cnn2' performed best out of all 3 of the ones we investigated. However, due to lack of computational ressources we could not investigate bigger models (which for example with RNNs hidden states may be a big difference!)."
   ]
  },
  {
   "cell_type": "code",
   "execution_count": null,
   "metadata": {},
   "outputs": [],
   "source": [
    "# cv = load(run='human')"
   ]
  },
  {
   "cell_type": "code",
   "execution_count": 14,
   "metadata": {},
   "outputs": [],
   "source": [
    "def get_score(cv, run=0):\n",
    "    return cv[run][4]"
   ]
  },
  {
   "cell_type": "code",
   "execution_count": 17,
   "metadata": {},
   "outputs": [],
   "source": [
    "# Save best models predictions\n",
    "np.save('humans_test_nn.npy', best_pred_test)\n",
    "np.save('humans_test_nn.npy', best_pred_testh)"
   ]
  },
  {
   "cell_type": "code",
   "execution_count": 20,
   "metadata": {},
   "outputs": [
    {
     "data": {
      "text/plain": [
       "Text(0, 0.5, 'TPR')"
      ]
     },
     "execution_count": 20,
     "metadata": {},
     "output_type": "execute_result"
    },
    {
     "data": {
      "image/png": "[encoded data removed]",
      "text/plain": [
       "<Figure size 432x288 with 1 Axes>"
      ]
     },
     "metadata": {
      "needs_background": "light"
     },
     "output_type": "display_data"
    }
   ],
   "source": [
    "roc = roc_curve(y_prep_test, best_pred_test[:, 1])\n",
    "\n",
    "label = 'AUC: {:.4}'.format(auc(roc[0], roc[1]))\n",
    "plt.plot(roc[0], roc[1], label = label)\n",
    "plt.plot([0, 1], [0, 1], linestyle='--', lw=1, color='gray',label='Random', alpha=.8)\n",
    "plt.legend()\n",
    "plt.title('ROC Curve')\n",
    "plt.xlabel('FPR')\n",
    "plt.ylabel('TPR')"
   ]
  },
  {
   "cell_type": "code",
   "execution_count": 21,
   "metadata": {},
   "outputs": [],
   "source": [
    "precision, recall, _ = precision_recall_curve(y_prep_test, best_pred_test[:, 1])"
   ]
  },
  {
   "cell_type": "code",
   "execution_count": 23,
   "metadata": {},
   "outputs": [
    {
     "data": {
      "text/plain": [
       "Text(0, 0.5, 'Recall')"
      ]
     },
     "execution_count": 23,
     "metadata": {},
     "output_type": "execute_result"
    },
    {
     "data": {
      "image/png": "[encoded data removed]",
      "text/plain": [
       "<Figure size 432x288 with 1 Axes>"
      ]
     },
     "metadata": {
      "needs_background": "light"
     },
     "output_type": "display_data"
    }
   ],
   "source": [
    "plt.plot(precision, recall)\n",
    "plt.title(\"Precision Recall Curve\")\n",
    "plt.xlabel(\"Precision\")\n",
    "plt.ylabel(\"Recall\")"
   ]
  },
  {
   "cell_type": "code",
   "execution_count": null,
   "metadata": {},
   "outputs": [],
   "source": []
  }
 ],
 "metadata": {
  "kernelspec": {
   "display_name": "Python 3",
   "language": "python",
   "name": "python3"
  },
  "language_info": {
   "codemirror_mode": {
    "name": "ipython",
    "version": 3
   },
   "file_extension": ".py",
   "mimetype": "text/x-python",
   "name": "python",
   "nbconvert_exporter": "python",
   "pygments_lexer": "ipython3",
   "version": "3.8.3"
  }
 },
 "nbformat": 4,
 "nbformat_minor": 4
}
