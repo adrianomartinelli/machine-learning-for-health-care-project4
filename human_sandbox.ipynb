{
 "cells": [
  {
   "cell_type": "code",
   "execution_count": 1,
   "metadata": {},
   "outputs": [],
   "source": [
    "from sandbox import *"
   ]
  },
  {
   "cell_type": "code",
   "execution_count": 2,
   "metadata": {},
   "outputs": [],
   "source": [
    "random_state = 42"
   ]
  },
  {
   "cell_type": "markdown",
   "metadata": {},
   "source": [
    "# Data loading"
   ]
  },
  {
   "cell_type": "code",
   "execution_count": 3,
   "metadata": {},
   "outputs": [],
   "source": [
    "# Since we do cross validation split ourselves we join TRAINING/VALIDATION together\n",
    "\n",
    "df_train = pd.concat([pd.read_csv('exercise_data/human_dna_train_split.csv', header=0, names =['seq', 'label']),\n",
    "                       pd.read_csv('exercise_data/human_dna_validation_split.csv', header=0, names =['seq', 'label'])])\n",
    "y_train = df_train.label\n",
    "x_train = df_train.seq"
   ]
  },
  {
   "cell_type": "code",
   "execution_count": 4,
   "metadata": {},
   "outputs": [
    {
     "name": "stderr",
     "output_type": "stream",
     "text": [
      "/home/flurin/machine-learning-for-health-care-project4/sandbox.py:78: SettingWithCopyWarning: \n",
      "A value is trying to be set on a copy of a slice from a DataFrame\n",
      "\n",
      "See the caveats in the documentation: https://pandas.pydata.org/pandas-docs/stable/user_guide/indexing.html#returning-a-view-versus-a-copy\n",
      "  y[y==-1] = 0\n"
     ]
    }
   ],
   "source": [
    "# TRAINING DATASET\n",
    "# y_train=y_train[:10000]\n",
    "# x_train=x_train[:10000]\n",
    "x_prep, y_prep = prep_data_cnn(x_train, y_train)\n",
    "\n",
    "# print(x_prep.shape)\n",
    "# print(y_prep.shape)\n",
    "# print((np.asarray(x_prep)).shape)"
   ]
  },
  {
   "cell_type": "code",
   "execution_count": 5,
   "metadata": {},
   "outputs": [],
   "source": [
    "# TESTING DATASETS\n",
    "df_test = pd.read_csv('exercise_data/human_dna_test_split.csv', header=0, names =['seq', 'label'])\n",
    "df_test_hidden = pd.read_csv('exercise_data/human_dna_test_hidden_split.csv', header=0, names =['seq'])\n",
    "y_test = df_test.label\n",
    "x_test = df_test.seq\n",
    "x_testh = df_test_hidden.seq"
   ]
  },
  {
   "cell_type": "code",
   "execution_count": 6,
   "metadata": {},
   "outputs": [
    {
     "name": "stderr",
     "output_type": "stream",
     "text": [
      "/home/flurin/machine-learning-for-health-care-project4/sandbox.py:78: SettingWithCopyWarning: \n",
      "A value is trying to be set on a copy of a slice from a DataFrame\n",
      "\n",
      "See the caveats in the documentation: https://pandas.pydata.org/pandas-docs/stable/user_guide/indexing.html#returning-a-view-versus-a-copy\n",
      "  y[y==-1] = 0\n"
     ]
    }
   ],
   "source": [
    "x_prep_test, y_prep_test = prep_data_cnn(x_test, y_test)\n",
    "\n",
    "# print(x_prep_test.shape)\n",
    "# print(y_prep_test.shape)\n",
    "# print((np.asarray(x_prep_test)).shape)"
   ]
  },
  {
   "cell_type": "code",
   "execution_count": 7,
   "metadata": {},
   "outputs": [],
   "source": [
    "x_prep_testh = prep_data_cnn(x_testh, use_y=False)\n",
    "\n",
    "# print(x_prep_testh.shape)"
   ]
  },
  {
   "cell_type": "markdown",
   "metadata": {},
   "source": [
    "# Analysis"
   ]
  },
  {
   "cell_type": "code",
   "execution_count": 8,
   "metadata": {},
   "outputs": [],
   "source": [
    "# Settings is a list of lists containing our evaluation settings.\n",
    "# We optimize modeltype, batch_size and learning_rate.\n",
    "\n",
    "\n",
    "def get_settings():\n",
    "    settings = []\n",
    "    for m in ['cnn', 'cnn2']:\n",
    "        for l in [0.01, 0.001]:\n",
    "            for b in [64]:\n",
    "                settings.append([m, l, b])\n",
    "    return settings"
   ]
  },
  {
   "cell_type": "code",
   "execution_count": 9,
   "metadata": {},
   "outputs": [],
   "source": [
    "# We generate a learning setting list (notice this one is considerably shorter than our \n",
    "# evalutation on the elegans set. But with leonhard down \n",
    "# we are only capable of optimizing on our local machine.)\n",
    "\n",
    "settings = get_settings()\n",
    "# print(settings)"
   ]
  },
  {
   "cell_type": "code",
   "execution_count": 10,
   "metadata": {},
   "outputs": [
    {
     "data": {
      "text/plain": [
       "'\\ncv = cross_validation(x_prep, y_prep, settings, \\n                      x_test=x_prep_test, y_test=y_prep_test, \\n                      x_testh=x_prep_testh, \\n                      k=5, epochs=3, test_hidden=True)'"
      ]
     },
     "execution_count": 10,
     "metadata": {},
     "output_type": "execute_result"
    }
   ],
   "source": [
    "# This is a full run... often the kernel dies.. run next box for individual runs starting at idx = 0\n",
    "\"\"\"\n",
    "cv = cross_validation(x_prep, y_prep, settings, \n",
    "                      x_test=x_prep_test, y_test=y_prep_test, \n",
    "                      x_testh=x_prep_testh, \n",
    "                      k=5, epochs=3, test_hidden=True)\"\"\" \n",
    "# Here we only do 3 epochs (more data, no clusters available) "
   ]
  },
  {
   "cell_type": "code",
   "execution_count": null,
   "metadata": {},
   "outputs": [
    {
     "name": "stdout",
     "output_type": "stream",
     "text": [
      "6667/6667 [==============================] - 83s 12ms/step - loss: 0.0286 - accuracy: 0.9970 - val_loss: 0.0208 - val_accuracy: 0.9969\n"
     ]
    }
   ],
   "source": [
    "def save(cv, run='elegans'):\n",
    "    try:\n",
    "        import cPickle as pickle\n",
    "    except ImportError:  # python 3.x\n",
    "        import pickle\n",
    "    with open(run+'_data.p', 'wb') as fp:\n",
    "        pickle.dump(cv, fp, protocol=pickle.HIGHEST_PROTOCOL)\n",
    "        \n",
    "def load(run='elegans'):\n",
    "    data = None\n",
    "    try:\n",
    "        import cPickle as pickle\n",
    "    except ImportError:  # python 3.x\n",
    "        import pickle\n",
    "    with open(run+'_data.p', 'rb') as fp:\n",
    "        data = pickle.load(fp)\n",
    "    return data\n",
    "\n",
    "\n",
    "idx = 0\n",
    "# set idx to point where kernel died during run\n",
    "\n",
    "settings = settings[idx:]\n",
    "for sett in settings:\n",
    "    s = [sett]\n",
    "    cv = cross_validation(x_prep, y_prep, s, \n",
    "                      x_test=x_prep_test, y_test=y_prep_test, \n",
    "                      x_testh=x_prep_testh, \n",
    "                      k=5, epochs=1, test_hidden=True)  # Here we only do 1 epochs (more data, no clusters available) \n",
    "    save(cv, run='human_m'+str(idx))\n",
    "    idx+=1\n",
    "    print(\"saving model \", idx)\n",
    "    print(\"\")"
   ]
  },
  {
   "cell_type": "markdown",
   "metadata": {},
   "source": [
    "# Visualization"
   ]
  },
  {
   "cell_type": "code",
   "execution_count": null,
   "metadata": {},
   "outputs": [],
   "source": [
    "print(results)"
   ]
  },
  {
   "cell_type": "code",
   "execution_count": null,
   "metadata": {},
   "outputs": [],
   "source": [
    "plotting_results(results)"
   ]
  },
  {
   "cell_type": "code",
   "execution_count": null,
   "metadata": {},
   "outputs": [],
   "source": []
  },
  {
   "cell_type": "code",
   "execution_count": null,
   "metadata": {},
   "outputs": [],
   "source": []
  },
  {
   "cell_type": "code",
   "execution_count": null,
   "metadata": {},
   "outputs": [],
   "source": []
  },
  {
   "cell_type": "code",
   "execution_count": null,
   "metadata": {},
   "outputs": [],
   "source": []
  },
  {
   "cell_type": "code",
   "execution_count": null,
   "metadata": {},
   "outputs": [],
   "source": []
  },
  {
   "cell_type": "code",
   "execution_count": null,
   "metadata": {},
   "outputs": [],
   "source": []
  },
  {
   "cell_type": "code",
   "execution_count": null,
   "metadata": {},
   "outputs": [],
   "source": []
  },
  {
   "cell_type": "code",
   "execution_count": null,
   "metadata": {},
   "outputs": [],
   "source": [
    "\n"
   ]
  }
 ],
 "metadata": {
  "kernelspec": {
   "display_name": "Python 3",
   "language": "python",
   "name": "python3"
  },
  "language_info": {
   "codemirror_mode": {
    "name": "ipython",
    "version": 3
   },
   "file_extension": ".py",
   "mimetype": "text/x-python",
   "name": "python",
   "nbconvert_exporter": "python",
   "pygments_lexer": "ipython3",
   "version": "3.8.3"
  }
 },
 "nbformat": 4,
 "nbformat_minor": 4
}
