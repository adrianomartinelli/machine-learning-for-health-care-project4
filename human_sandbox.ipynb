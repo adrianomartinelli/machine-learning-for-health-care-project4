{
 "cells": [
  {
   "cell_type": "code",
   "execution_count": 1,
   "metadata": {},
   "outputs": [],
   "source": [
    "from sandbox import *"
   ]
  },
  {
   "cell_type": "code",
   "execution_count": 2,
   "metadata": {},
   "outputs": [],
   "source": [
    "random_state = 42"
   ]
  },
  {
   "cell_type": "markdown",
   "metadata": {},
   "source": [
    "# Training"
   ]
  },
  {
   "cell_type": "code",
   "execution_count": 6,
   "metadata": {},
   "outputs": [],
   "source": [
    "# Since we do validation split ourselves we join them together\n",
    "\n",
    "df_train = pd.concat([pd.read_csv('exercise_data/human_dna_train_split.csv', header=0, names =['seq', 'label']),\n",
    "                       pd.read_csv('exercise_data/human_dna_validation_split.csv', header=0, names =['seq', 'label'])])\n",
    "y_train = df_train.label\n",
    "x_train = df_train.seq"
   ]
  },
  {
   "cell_type": "code",
   "execution_count": 7,
   "metadata": {},
   "outputs": [
    {
     "name": "stdout",
     "output_type": "stream",
     "text": [
      "(533333, 398, 4)\n",
      "(533333,)\n",
      "(533333, 398, 4)\n"
     ]
    },
    {
     "name": "stderr",
     "output_type": "stream",
     "text": [
      "/home/flurin/machine-learning-for-health-care-project4/sandbox.py:82: SettingWithCopyWarning: \n",
      "A value is trying to be set on a copy of a slice from a DataFrame\n",
      "\n",
      "See the caveats in the documentation: https://pandas.pydata.org/pandas-docs/stable/user_guide/indexing.html#returning-a-view-versus-a-copy\n",
      "  y[y==-1] = 0\n"
     ]
    }
   ],
   "source": [
    "\n",
    "x_prep, y_prep = prep_data_cnn(x_train, y_train)\n",
    "\n",
    "print(x_prep.shape)\n",
    "print(y_prep.shape)\n",
    "print((np.asarray(x_prep)).shape)"
   ]
  },
  {
   "cell_type": "code",
   "execution_count": 8,
   "metadata": {},
   "outputs": [],
   "source": [
    "\n",
    "# Settings is a list of lists containing our evaluation settings.\n",
    "# We optimize modeltype, batch_size and learning_rate.\n",
    "\n",
    "\n",
    "def get_settings():\n",
    "    settings = []\n",
    "    for m in ['cnn', 'cnn2', 'rnn']:\n",
    "        for l in [0.1, 0.01, 0.001]:\n",
    "            for b in [8, 64]:\n",
    "                settings.append([m, l, b])\n",
    "    return settings"
   ]
  },
  {
   "cell_type": "code",
   "execution_count": 9,
   "metadata": {},
   "outputs": [
    {
     "name": "stdout",
     "output_type": "stream",
     "text": [
      "[['cnn', 0.1, 8], ['cnn', 0.1, 64], ['cnn', 0.01, 8], ['cnn', 0.01, 64], ['cnn', 0.001, 8], ['cnn', 0.001, 64], ['cnn2', 0.1, 8], ['cnn2', 0.1, 64], ['cnn2', 0.01, 8], ['cnn2', 0.01, 64], ['cnn2', 0.001, 8], ['cnn2', 0.001, 64], ['rnn', 0.1, 8], ['rnn', 0.1, 64], ['rnn', 0.01, 8], ['rnn', 0.01, 64], ['rnn', 0.001, 8], ['rnn', 0.001, 64]]\n"
     ]
    }
   ],
   "source": [
    "# We generate a learning setting list\n",
    "\n",
    "settings = get_settings()\n",
    "print(settings)"
   ]
  },
  {
   "cell_type": "code",
   "execution_count": null,
   "metadata": {},
   "outputs": [],
   "source": [
    "cv = cv = cross_validation(x_prep, y_prep, settings, k=5, epochs=10)  # Here we only do 10 (more data, no clusters available) "
   ]
  },
  {
   "cell_type": "markdown",
   "metadata": {},
   "source": [
    "# Testing"
   ]
  },
  {
   "cell_type": "code",
   "execution_count": null,
   "metadata": {},
   "outputs": [],
   "source": [
    "#Predict on test set\n",
    "df_test = pd.read_csv('exercise_data/human_dna_test_split.csv', header=0, names =['seq', 'label'])\n",
    "df_test_hidden = pd.read_csv('exercise_data/human_dna_test_split.csv', header=0, names =['seq', 'label'])\n"
   ]
  }
 ],
 "metadata": {
  "kernelspec": {
   "display_name": "Python 3",
   "language": "python",
   "name": "python3"
  },
  "language_info": {
   "codemirror_mode": {
    "name": "ipython",
    "version": 3
   },
   "file_extension": ".py",
   "mimetype": "text/x-python",
   "name": "python",
   "nbconvert_exporter": "python",
   "pygments_lexer": "ipython3",
   "version": "3.8.3"
  }
 },
 "nbformat": 4,
 "nbformat_minor": 4
}
